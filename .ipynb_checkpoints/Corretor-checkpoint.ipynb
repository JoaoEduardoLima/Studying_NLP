{
 "cells": [
  {
   "cell_type": "markdown",
   "id": "07994c13",
   "metadata": {},
   "source": [
    "# Corretor Ortográfico\n",
    "\n",
    "### Importando  os dados - corpus\n",
    "\n",
    "Sempre quando queremos aprender novos conhecimentos, buscamos mais informações sobre o assunto em livros, vídeos, cursos, palestras, aulas e etc. Para que nosso modelo corrija as palavras, precisaremos primeiro ensiná-lo a escrever através de um vocabulário que cresce conforme aprende.\n",
    "\n",
    "Logo, iremos precisar de uma base de dados.\n",
    "\n",
    "Porém, como estamos trabalhando com o buscador do site da Alura, seria interessante também que essa base de conhecimento tivesse termos mais técnicos da área.\n",
    "\n",
    "A base de dados que utilizaremos neste curso será construída com os próprios artigos do Blog da Alura, pois ensinaremos o nosso corretor a realizar correções específicas para o mundo técnico de desenvolvimento, como Java, programação orientada a objeto, Data Science e etc.\n",
    "\n",
    "Quando trabalhamos em NLP, a nossa base de dados é conhecida como corpus. Ou seja, é um corpo composto por com diversos textos, e cada um corresponde a um artigo do nosso blog, chamado de documento.\n",
    "\n",
    "Logo, o corpus é um conjunto de documentos em Processamento Linguagem Natural, e no nosso caso, é composto pelos artigos do blog que formam a base de dados artigos.txt. Em seguida, a leremos no notebook.\n"
   ]
  },
  {
   "cell_type": "code",
   "execution_count": 1,
   "id": "43fa3e53",
   "metadata": {},
   "outputs": [
    {
     "name": "stdout",
     "output_type": "stream",
     "text": [
      "\n",
      "\n",
      "\n",
      "imagem \n",
      "\n",
      "Temos a seguinte classe que representa um usuário no nosso sistema:\n",
      "\n",
      "java\n",
      "\n",
      "Para salvar um novo usuário, várias validações são feitas, como por exemplo: Ver se o nome só contém letras, [**o CPF só números**] e ver se o usuário possui no mínimo 18 anos. Veja o método que faz essa validação:\n",
      "\n",
      "java \n",
      "\n",
      "Suponha agora que eu tenha outra classe, a classe `Produto`, que contém um atributo nome e eu quero fazer a mesma validação que fiz para o nome do usuário: Ver se só contém letras. E aí? Vou\n"
     ]
    }
   ],
   "source": [
    "with open(\"corpus/artigos.txt\", \"r\", encoding = \"utf-8\") as f:\n",
    "    artigos = f.read()\n",
    "\n",
    "print(artigos[:500])"
   ]
  },
  {
   "cell_type": "markdown",
   "id": "ef1fa255",
   "metadata": {},
   "source": [
    "Imaginemos que dois estudantes estão aprendendo um novo idioma, o russo.\n",
    "\n",
    "Ao final de um ano de estudos, o primeiro leu apenas um livro de 100 páginas, enquanto o outro leu toda a coleção do Game of Thrones em russo, sendo que cada parte possui quase mil páginas. Neste caso, a segunda pessoa possui muito mais informações sobre a língua, pois teve acesso à um vocabulário muito maior, inclusive estando apta a fazer correções.\n",
    "\n",
    "Portanto, a quantidade de vocábulos é interessante para este aprendizado, o que também vale para o nosso corretor.\n",
    "\n",
    "Para sabermos se o nosso corpus é ideal para o trabalho, deveremos saber quantas palavras possui. Afinal, um texto com dez palavras faz no máximo dez correções por exemplo. Então precisaremos ter um corpus com um grande volume de termos.\n"
   ]
  },
  {
   "cell_type": "code",
   "execution_count": 2,
   "id": "1295cb8f",
   "metadata": {},
   "outputs": [
    {
     "data": {
      "text/plain": [
       "2605046"
      ]
     },
     "execution_count": 2,
     "metadata": {},
     "output_type": "execute_result"
    }
   ],
   "source": [
    "len(artigos)"
   ]
  },
  {
   "cell_type": "markdown",
   "id": "4aa665d0",
   "metadata": {},
   "source": [
    "Neste caso, utilizar apenas a função len() recebendo artigos não nos ajudará, pois nos retornará apenas a quantidade de caracteres presentes no corpus, e não a de palavras que queremos."
   ]
  },
  {
   "cell_type": "code",
   "execution_count": 3,
   "id": "e71b173e",
   "metadata": {},
   "outputs": [],
   "source": [
    "texto_exemplo = \"Olá, tudo bem?\"\n",
    "tokens = texto_exemplo.split()"
   ]
  },
  {
   "cell_type": "code",
   "execution_count": 4,
   "id": "b8d0cb21",
   "metadata": {},
   "outputs": [
    {
     "name": "stdout",
     "output_type": "stream",
     "text": [
      "3\n"
     ]
    }
   ],
   "source": [
    "print(len(tokens))"
   ]
  },
  {
   "cell_type": "code",
   "execution_count": 5,
   "id": "b24cb3d2",
   "metadata": {},
   "outputs": [
    {
     "name": "stdout",
     "output_type": "stream",
     "text": [
      "['Olá,', 'tudo', 'bem?']\n"
     ]
    }
   ],
   "source": [
    "print(tokens)"
   ]
  },
  {
   "cell_type": "markdown",
   "id": "393f4f6d",
   "metadata": {},
   "source": [
    "### Separando Palavras de Tokens"
   ]
  },
  {
   "cell_type": "markdown",
   "id": "01cf5a98",
   "metadata": {},
   "source": [
    "Porém, nem a vírgula da primeira parte em 'Olá,' e nem o ponto de interrogação na terceira em 'bem?' fazem parte dessas palavras em si.\n",
    "\n",
    "De qualquer forma o método split() pode nos ajudar neste caso. Se imprimirmos o len() de tokens, teremos o tamanho do vetor com os três itens retornados no comando anterior.\n",
    "\n",
    "Mas queremos os vocábulos separados, e não concatenados com pontuação.\n",
    "\n",
    "Em Processamento de Linguagem Natural, cada um dos elementos separados desse vetor é conhecido como token. Ou seja, ao pegarmos as strings e as separarmos em pequenos pedaços, estamos tokenizando a frase.\n",
    "\n",
    "Portanto, ainda temos apenas tokens separados, e não palavras separadas propriamente ditas.\n",
    "\n",
    "Uma ferramenta bem conhecida na área de NLP é o nltk ou Natural Language Tool Kit, que é um conjunto de ferramentas que implementa diversos métodos e algoritmos para análise textual.\n",
    "\n"
   ]
  },
  {
   "cell_type": "code",
   "execution_count": 6,
   "id": "f8420774",
   "metadata": {},
   "outputs": [],
   "source": [
    "# Caso precise de fazer a instalação do pacote.\n",
    "# !pip install nltk"
   ]
  },
  {
   "cell_type": "code",
   "execution_count": 7,
   "id": "32b99a93",
   "metadata": {},
   "outputs": [],
   "source": [
    "import nltk"
   ]
  },
  {
   "cell_type": "code",
   "execution_count": 8,
   "id": "1d87e8e2",
   "metadata": {},
   "outputs": [
    {
     "name": "stderr",
     "output_type": "stream",
     "text": [
      "[nltk_data] Downloading package punkt to\n",
      "[nltk_data]     C:\\Users\\joaoe\\AppData\\Roaming\\nltk_data...\n",
      "[nltk_data]   Package punkt is already up-to-date!\n"
     ]
    }
   ],
   "source": [
    "nltk.download('punkt')\n",
    "palavras_separadas = nltk.tokenize.word_tokenize(texto_exemplo)"
   ]
  },
  {
   "cell_type": "code",
   "execution_count": 9,
   "id": "25264551",
   "metadata": {},
   "outputs": [
    {
     "data": {
      "text/plain": [
       "['Olá', ',', 'tudo', 'bem', '?']"
      ]
     },
     "execution_count": 9,
     "metadata": {},
     "output_type": "execute_result"
    }
   ],
   "source": [
    "palavras_separadas"
   ]
  },
  {
   "cell_type": "code",
   "execution_count": 10,
   "id": "125ff7fe",
   "metadata": {},
   "outputs": [
    {
     "data": {
      "text/plain": [
       "5"
      ]
     },
     "execution_count": 10,
     "metadata": {},
     "output_type": "execute_result"
    }
   ],
   "source": [
    "len(palavras_separadas)"
   ]
  },
  {
   "cell_type": "markdown",
   "id": "ea600ec7",
   "metadata": {},
   "source": [
    "Ou seja, a frase \"Olá, tudo bem?\" possui cinco tokens, sendo três palavras e duas pontuações, mas precisamos descobrir apenas a quantidade de vocábulos no corpus.\n",
    "\n",
    "Para fazermos a separação dos tokens, criaremos uma função \n"
   ]
  },
  {
   "cell_type": "code",
   "execution_count": 11,
   "id": "5b8cb9f6",
   "metadata": {},
   "outputs": [
    {
     "data": {
      "text/plain": [
       "['Olá', 'tudo', 'bem']"
      ]
     },
     "execution_count": 11,
     "metadata": {},
     "output_type": "execute_result"
    }
   ],
   "source": [
    "def separa_palavras(lista_tokens):\n",
    "    lista_palavras = []\n",
    "    for token in lista_tokens:\n",
    "        if token.isalpha():             #isalpha() selecionará apenas as letras do alfabeto, retornando-as como verdadeiro\n",
    "            lista_palavras.append(token)\n",
    "    return lista_palavras\n",
    "\n",
    "separa_palavras(palavras_separadas)"
   ]
  },
  {
   "cell_type": "markdown",
   "id": "94d4aeec",
   "metadata": {},
   "source": [
    "Então, vamos aplicar este método em nosso corpus."
   ]
  },
  {
   "cell_type": "code",
   "execution_count": 12,
   "id": "3f228317",
   "metadata": {},
   "outputs": [
    {
     "name": "stdout",
     "output_type": "stream",
     "text": [
      "O número de palavras é 403106\n"
     ]
    }
   ],
   "source": [
    "lista_tokens = nltk.tokenize.word_tokenize(artigos)\n",
    "lista_palavras = separa_palavras(lista_tokens)\n",
    "print(f\"O número de palavras é {len(lista_palavras)}\")"
   ]
  },
  {
   "cell_type": "markdown",
   "id": "72cb49ca",
   "metadata": {},
   "source": [
    "O valor total de palavras retornado não representa a quantidade de palavras únicas que podem ser corrigidas, afinal muitas delas aparecerão *repetidas *nos textos.\n",
    "\n",
    "Portanto, precisaremos calcular quantos vocábulos únicos existem sem repetição."
   ]
  },
  {
   "cell_type": "markdown",
   "id": "6e41644d",
   "metadata": {},
   "source": [
    "### Normalização"
   ]
  },
  {
   "cell_type": "code",
   "execution_count": 13,
   "id": "05dcb4f9",
   "metadata": {},
   "outputs": [
    {
     "name": "stdout",
     "output_type": "stream",
     "text": [
      "['imagem', 'temos', 'a', 'seguinte', 'classe', 'que', 'representa', 'um', 'usuário', 'no']\n"
     ]
    }
   ],
   "source": [
    "def normalizacao(lista_palavras):      # Esta função retorna uma lista com as letras todas em minuscúlas.\n",
    "    lista_normalizada = []\n",
    "    for palavra in lista_palavras:\n",
    "        lista_normalizada.append(palavra.lower())\n",
    "    return lista_normalizada\n",
    "\n",
    "lista_normalizada = normalizacao(lista_palavras)\n",
    "print(lista_normalizada[:10])"
   ]
  },
  {
   "cell_type": "code",
   "execution_count": 14,
   "id": "e17ad1b3",
   "metadata": {},
   "outputs": [
    {
     "data": {
      "text/plain": [
       "18465"
      ]
     },
     "execution_count": 14,
     "metadata": {},
     "output_type": "execute_result"
    }
   ],
   "source": [
    "len(set(lista_normalizada))        # set() remove as repetições de palavras"
   ]
  },
  {
   "cell_type": "markdown",
   "id": "34dfc516",
   "metadata": {},
   "source": [
    "Este será o número de palavras que nosso corretor ortográfico aprenderá a corrigir"
   ]
  },
  {
   "cell_type": "markdown",
   "id": "e08368fa",
   "metadata": {},
   "source": [
    "## Desenvolvendo e testanto o corretor\n",
    "\n",
    "### Inserindo uma letra\n",
    "\n",
    "Usando como exemplo a palavra digitada errada \" Lgica \" onde o certo seria \" Lógica \".\n",
    "\n",
    "Nosso modelo de NLP precisará de um algoritmo capaz de inserir uma letra a mais neste termo digitado equivocadamente.\n",
    "\n",
    "\n",
    "\n",
    "| ESQUERDO | DIREITO |     OPERAÇÃO     | RESULTADO |\n",
    "|:--------:|:-------:|:----------------:|:---------:|\n",
    "| null     | lgica   | null + ó + lgica | óligca    |\n",
    "| l        | gica    | l + ó + gica     | lógica    |\n",
    "| lg       | ica     | lg + ó + ica     | lgóica    |\n",
    "| lgi      | ca      | lgi + ó + ca     | lgióca    |\n",
    "| lgic     | a       | lgic + ó + a     | lgicóa    |\n",
    "| lgica    | null    | lgica + ó + null | lgicaó    |"
   ]
  },
  {
   "cell_type": "code",
   "execution_count": 15,
   "id": "ce9e9a97",
   "metadata": {},
   "outputs": [
    {
     "name": "stdout",
     "output_type": "stream",
     "text": [
      "['algica', 'blgica', 'clgica', 'dlgica', 'elgica', 'flgica', 'glgica', 'hlgica', 'ilgica', 'jlgica', 'klgica', 'llgica', 'mlgica', 'nlgica', 'olgica', 'plgica', 'qlgica', 'rlgica', 'slgica', 'tlgica', 'ulgica', 'vlgica', 'wlgica', 'xlgica', 'ylgica', 'zlgica', 'àlgica', 'álgica', 'âlgica', 'ãlgica', 'èlgica', 'élgica', 'êlgica', 'ìlgica', 'ílgica', 'îlgica', 'òlgica', 'ólgica', 'ôlgica', 'õlgica', 'ùlgica', 'úlgica', 'ûlgica', 'çlgica', 'lagica', 'lbgica', 'lcgica', 'ldgica', 'legica', 'lfgica', 'lggica', 'lhgica', 'ligica', 'ljgica', 'lkgica', 'llgica', 'lmgica', 'lngica', 'logica', 'lpgica', 'lqgica', 'lrgica', 'lsgica', 'ltgica', 'lugica', 'lvgica', 'lwgica', 'lxgica', 'lygica', 'lzgica', 'làgica', 'lágica', 'lâgica', 'lãgica', 'lègica', 'légica', 'lêgica', 'lìgica', 'lígica', 'lîgica', 'lògica', 'lógica', 'lôgica', 'lõgica', 'lùgica', 'lúgica', 'lûgica', 'lçgica', 'lgaica', 'lgbica', 'lgcica', 'lgdica', 'lgeica', 'lgfica', 'lggica', 'lghica', 'lgiica', 'lgjica', 'lgkica', 'lglica', 'lgmica', 'lgnica', 'lgoica', 'lgpica', 'lgqica', 'lgrica', 'lgsica', 'lgtica', 'lguica', 'lgvica', 'lgwica', 'lgxica', 'lgyica', 'lgzica', 'lgàica', 'lgáica', 'lgâica', 'lgãica', 'lgèica', 'lgéica', 'lgêica', 'lgìica', 'lgíica', 'lgîica', 'lgòica', 'lgóica', 'lgôica', 'lgõica', 'lgùica', 'lgúica', 'lgûica', 'lgçica', 'lgiaca', 'lgibca', 'lgicca', 'lgidca', 'lgieca', 'lgifca', 'lgigca', 'lgihca', 'lgiica', 'lgijca', 'lgikca', 'lgilca', 'lgimca', 'lginca', 'lgioca', 'lgipca', 'lgiqca', 'lgirca', 'lgisca', 'lgitca', 'lgiuca', 'lgivca', 'lgiwca', 'lgixca', 'lgiyca', 'lgizca', 'lgiàca', 'lgiáca', 'lgiâca', 'lgiãca', 'lgièca', 'lgiéca', 'lgiêca', 'lgiìca', 'lgiíca', 'lgiîca', 'lgiòca', 'lgióca', 'lgiôca', 'lgiõca', 'lgiùca', 'lgiúca', 'lgiûca', 'lgiçca', 'lgicaa', 'lgicba', 'lgicca', 'lgicda', 'lgicea', 'lgicfa', 'lgicga', 'lgicha', 'lgicia', 'lgicja', 'lgicka', 'lgicla', 'lgicma', 'lgicna', 'lgicoa', 'lgicpa', 'lgicqa', 'lgicra', 'lgicsa', 'lgicta', 'lgicua', 'lgicva', 'lgicwa', 'lgicxa', 'lgicya', 'lgicza', 'lgicàa', 'lgicáa', 'lgicâa', 'lgicãa', 'lgicèa', 'lgicéa', 'lgicêa', 'lgicìa', 'lgicía', 'lgicîa', 'lgicòa', 'lgicóa', 'lgicôa', 'lgicõa', 'lgicùa', 'lgicúa', 'lgicûa', 'lgicça', 'lgicaa', 'lgicab', 'lgicac', 'lgicad', 'lgicae', 'lgicaf', 'lgicag', 'lgicah', 'lgicai', 'lgicaj', 'lgicak', 'lgical', 'lgicam', 'lgican', 'lgicao', 'lgicap', 'lgicaq', 'lgicar', 'lgicas', 'lgicat', 'lgicau', 'lgicav', 'lgicaw', 'lgicax', 'lgicay', 'lgicaz', 'lgicaà', 'lgicaá', 'lgicaâ', 'lgicaã', 'lgicaè', 'lgicaé', 'lgicaê', 'lgicaì', 'lgicaí', 'lgicaî', 'lgicaò', 'lgicaó', 'lgicaô', 'lgicaõ', 'lgicaù', 'lgicaú', 'lgicaû', 'lgicaç']\n"
     ]
    }
   ],
   "source": [
    "palavra_exemplo = \"lgica\"\n",
    "\n",
    "def insere_letras(fatias):\n",
    "    novas_palavras = []\n",
    "    letras = 'abcdefghijklmnopqrstuvwxyzàáâãèéêìíîòóôõùúûç'\n",
    "    for E, D in fatias:\n",
    "        for letra in letras:\n",
    "            novas_palavras.append(E + letra + D)\n",
    "    return novas_palavras\n",
    "\n",
    "def gerador_palavras(palavra):\n",
    "    fatias = []\n",
    "    for i in range(len(palavra)+1):\n",
    "        fatias.append((palavra[:i],palavra[i:]))\n",
    "    palavras_geradas = insere_letras(fatias)\n",
    "    return palavras_geradas\n",
    "\n",
    "palavras_geradas = gerador_palavras(palavra_exemplo)\n",
    "print(palavras_geradas)"
   ]
  },
  {
   "cell_type": "markdown",
   "id": "59e3c738",
   "metadata": {},
   "source": [
    "Como saída de palavras_geradas, teremos todas as palavras geradas por inserção.\n",
    "\n",
    "Precisaremos de uma função que indicará 'lógica' como a palavra correta dentre as demais.\n",
    "\n",
    "Temos um arquivo de texto, e queremos verificar se um termo está correto ou não de acordo com sua existência em nossa base de dados. Também deveremos calcular suas probabilidades dentro do conjunto de palavras geradas, pegando a correta como a de máxima probabilidade.\n",
    "\n",
    "Pra construirmos a função probabilidade() em uma nova célula, primeiro precisaremos fazer este cálculo com uma palavra; a frequência do termo “lógica” será a quantidade de vezes que este parece no corpus em relação ao total de palavras. Para calcular, o nltk possui a função .FreqDist()."
   ]
  },
  {
   "cell_type": "code",
   "execution_count": 16,
   "id": "726d274f",
   "metadata": {},
   "outputs": [
    {
     "data": {
      "text/plain": [
       "[('de', 15502),\n",
       " ('o', 14056),\n",
       " ('que', 12230),\n",
       " ('a', 11099),\n",
       " ('e', 10501),\n",
       " ('para', 7710),\n",
       " ('um', 6368),\n",
       " ('é', 5899),\n",
       " ('uma', 5220),\n",
       " ('do', 5124)]"
      ]
     },
     "execution_count": 16,
     "metadata": {},
     "output_type": "execute_result"
    }
   ],
   "source": [
    "frequencia = nltk.FreqDist(lista_normalizada)\n",
    "frequencia.most_common(10)"
   ]
  },
  {
   "cell_type": "code",
   "execution_count": 17,
   "id": "2c84d962",
   "metadata": {},
   "outputs": [
    {
     "data": {
      "text/plain": [
       "96"
      ]
     },
     "execution_count": 17,
     "metadata": {},
     "output_type": "execute_result"
    }
   ],
   "source": [
    "frequencia[\"lógica\"]"
   ]
  },
  {
   "cell_type": "code",
   "execution_count": 18,
   "id": "af6c245e",
   "metadata": {},
   "outputs": [],
   "source": [
    "total_palavras = len(lista_normalizada)"
   ]
  },
  {
   "cell_type": "code",
   "execution_count": 19,
   "id": "b25a87c6",
   "metadata": {},
   "outputs": [
    {
     "data": {
      "text/plain": [
       "0.00023815075935361914"
      ]
     },
     "execution_count": 19,
     "metadata": {},
     "output_type": "execute_result"
    }
   ],
   "source": [
    "def probabilidade(palavra_gerada):\n",
    "    return frequencia[palavra_gerada]/total_palavras\n",
    "\n",
    "probabilidade(\"lógica\")"
   ]
  },
  {
   "cell_type": "code",
   "execution_count": 20,
   "id": "a76ac646",
   "metadata": {},
   "outputs": [],
   "source": [
    "def corretor(palavra):\n",
    "    palavras_geradas = gerador_palavras(palavra)\n",
    "    palavra_correta = max(palavras_geradas, key=probabilidade)\n",
    "    return palavra_correta"
   ]
  },
  {
   "cell_type": "code",
   "execution_count": 21,
   "id": "88cc4999",
   "metadata": {},
   "outputs": [
    {
     "data": {
      "text/plain": [
       "'lógica'"
      ]
     },
     "execution_count": 21,
     "metadata": {},
     "output_type": "execute_result"
    }
   ],
   "source": [
    "corretor(palavra_exemplo)"
   ]
  },
  {
   "cell_type": "markdown",
   "id": "d200ce91",
   "metadata": {},
   "source": [
    "A saída do corretor será justamente a palavra 'lógica' mais frequente, a qual é a correção para quando digitamos por exemplo “lgica”. \n",
    "\n",
    "Porém, só estamos corrigindo o tipo de erro onde uma letra não foi digitada, e é interessante tratarmos outros casos."
   ]
  },
  {
   "cell_type": "markdown",
   "id": "1b6d70e8",
   "metadata": {},
   "source": [
    "### Avaliando a qualidade do corretor\n",
    "\n",
    "Precisamos avaliar o nosso modelo, pois só realizamos testes com a palavra “lógica” até agora.\n",
    "\n",
    "Teremos uma lista com diversas palavras em pares, onde a primeira é a correta e a segunda está errada.\n",
    "\n",
    "Nossa função que vamos criar precisará receber a palavra incorreta, passá-la pelo corretor e verificar se este acertou o resultado."
   ]
  },
  {
   "cell_type": "code",
   "execution_count": 22,
   "id": "6a5cd7ac",
   "metadata": {},
   "outputs": [
    {
     "data": {
      "text/plain": [
       "[('podemos', 'pyodemos'),\n",
       " ('esse', 'esje'),\n",
       " ('já', 'jrá'),\n",
       " ('nosso', 'nossov'),\n",
       " ('são', 'sãêo'),\n",
       " ('dos', 'dosa'),\n",
       " ('muito', 'muifo'),\n",
       " ('imagem', 'iômagem'),\n",
       " ('sua', 'ósua'),\n",
       " ('também', 'tambéùm'),\n",
       " ('ele', 'eme'),\n",
       " ('fazer', 'èazer'),\n",
       " ('temos', 'temfs'),\n",
       " ('essa', 'eàssa'),\n",
       " ('quando', 'quaôdo'),\n",
       " ('vamos', 'vamvos'),\n",
       " ('sobre', 'hsobre'),\n",
       " ('java', 'sjava'),\n",
       " ('das', 'daõs'),\n",
       " ('agora', 'agorah'),\n",
       " ('está', 'eòtá'),\n",
       " ('cada', 'céda'),\n",
       " ('mesmo', 'zmesmo'),\n",
       " ('nos', 'noâ'),\n",
       " ('forma', 'fobma'),\n",
       " ('seja', 'sejéa'),\n",
       " ('então', 'enêão'),\n",
       " ('criar', 'èriar'),\n",
       " ('código', 'cóeigo'),\n",
       " ('caso', 'casío'),\n",
       " ('exemplo', 'áexemplo'),\n",
       " ('tem', 'tĩem'),\n",
       " ('usuário', 'usuárôio'),\n",
       " ('dados', 'dfados'),\n",
       " ('python', 'pgthon'),\n",
       " ('nossa', 'nossah'),\n",
       " ('além', 'alémè'),\n",
       " ('assim', 'asõim'),\n",
       " ('ter', 'teb'),\n",
       " ('até', 'atĩ'),\n",
       " ('bem', 'âem'),\n",
       " ('design', 'desigen'),\n",
       " ('trabalho', 'trabalàho'),\n",
       " ('foi', 'foo'),\n",
       " ('apenas', 'apenaũ'),\n",
       " ('empresa', 'empresà'),\n",
       " ('valor', 'valíor'),\n",
       " ('será', 'serr'),\n",
       " ('entre', 'entke'),\n",
       " ('método', 'méqodo'),\n",
       " ('precisamos', 'precisamops'),\n",
       " ('ainda', 'ainàa'),\n",
       " ('vai', 'van'),\n",
       " ('conteúdo', 'ûconteúdo'),\n",
       " ('seus', 'çeus'),\n",
       " ('eu', 'eû'),\n",
       " ('todos', 'todtos'),\n",
       " ('tempo', 'temeo'),\n",
       " ('sempre', 'semre'),\n",
       " ('qual', 'quakl'),\n",
       " ('ela', 'elaá'),\n",
       " ('só', 'síó'),\n",
       " ('utilizar', 'utiqizar'),\n",
       " ('projeto', 'prhojeto'),\n",
       " ('site', 'siàe'),\n",
       " ('sem', 'seém'),\n",
       " ('pelo', 'peln'),\n",
       " ('alura', 'aléra'),\n",
       " ('dia', 'tdia'),\n",
       " ('tudo', 'tuúo'),\n",
       " ('podemos', 'kpodemos'),\n",
       " ('esse', 'eẽsse'),\n",
       " ('já', 'jé'),\n",
       " ('nosso', 'nçosso'),\n",
       " ('são', 'sãô'),\n",
       " ('dos', 'odos'),\n",
       " ('muito', 'tuito'),\n",
       " ('imagem', 'imõgem'),\n",
       " ('sua', 'siua'),\n",
       " ('também', 'tamvbém'),\n",
       " ('ele', 'elpe'),\n",
       " ('fazer', 'façzer'),\n",
       " ('temos', 'teos'),\n",
       " ('essa', 'eũsa'),\n",
       " ('quando', 'quaìdo'),\n",
       " ('vamos', 'vjmos'),\n",
       " ('sobre', 'sxobre'),\n",
       " ('java', 'jkva'),\n",
       " ('das', 'dms'),\n",
       " ('agora', 'agtora'),\n",
       " ('está', 'esútá'),\n",
       " ('cada', 'cava'),\n",
       " ('mesmo', 'medmo'),\n",
       " ('nos', 'ános'),\n",
       " ('forma', 'forûa'),\n",
       " ('seja', 'smeja'),\n",
       " ('então', 'enjtão'),\n",
       " ('criar', 'criôar'),\n",
       " ('código', 'cóàigo'),\n",
       " ('caso', 'èaso'),\n",
       " ('exemplo', 'exbemplo'),\n",
       " ('tem', 'túem'),\n",
       " ('usuário', 'usuárin'),\n",
       " ('dados', 'daáos'),\n",
       " ('python', 'pythoçn'),\n",
       " ('nossa', 'nossk'),\n",
       " ('além', 'âlém'),\n",
       " ('assim', 'aóssim'),\n",
       " ('ter', 'tãer'),\n",
       " ('até', 'vté'),\n",
       " ('bem', 'búm'),\n",
       " ('design', 'íesign'),\n",
       " ('trabalho', 'trabèalho'),\n",
       " ('foi', 'kfoi'),\n",
       " ('apenas', 'aapenas'),\n",
       " ('empresa', 'pmpresa'),\n",
       " ('valor', 'valoqr'),\n",
       " ('será', 'sçerá'),\n",
       " ('entre', 'entró'),\n",
       " ('método', 'nétodo'),\n",
       " ('precisamos', 'prefcisamos'),\n",
       " ('ainda', 'sainda'),\n",
       " ('vai', 'uai'),\n",
       " ('conteúdo', 'cĩonteúdo'),\n",
       " ('seus', 'sâus'),\n",
       " ('eu', 'ìeu'),\n",
       " ('todos', 'todás'),\n",
       " ('tempo', 'utempo'),\n",
       " ('sempre', 'sempce'),\n",
       " ('qual', 'fual'),\n",
       " ('ela', 'elal'),\n",
       " ('só', 'skó'),\n",
       " ('utilizar', 'utilĩzar'),\n",
       " ('projeto', 'proójeto'),\n",
       " ('site', 'isite'),\n",
       " ('sem', 'secm'),\n",
       " ('pelo', 'pẽlo'),\n",
       " ('alura', 'aluéa'),\n",
       " ('dia', 'dil'),\n",
       " ('tudo', 'tudy'),\n",
       " ('ela', 'qelay'),\n",
       " ('só', 'sód'),\n",
       " ('utilizar', 'dtilizacr'),\n",
       " ('projeto', 'bprojõto'),\n",
       " ('site', 'ysiteo'),\n",
       " ('sem', 'sõêm'),\n",
       " ('pelo', 'peàli'),\n",
       " ('alura', 'asuraó'),\n",
       " ('dia', 'deiìa'),\n",
       " ('tudo', 'tuĩdoì'),\n",
       " ('ela', 'eúaa'),\n",
       " ('só', 'ró'),\n",
       " ('utilizar', 'utilizẽaçr'),\n",
       " ('projeto', 'prêjetó'),\n",
       " ('site', 'sqiqte'),\n",
       " ('sem', 'sũexm'),\n",
       " ('pelo', 'pçlxo'),\n",
       " ('alura', 'uluraa'),\n",
       " ('dia', 'dĩaz'),\n",
       " ('tudo', 'kzudo'),\n",
       " ('corretor', 'correptor'),\n",
       " ('tática', 'trtica'),\n",
       " ('empoderamento', 'ewpoderamento'),\n",
       " ('linux', 'lifux'),\n",
       " ('cachorro', 'cachoçro'),\n",
       " ('gato', 'îgato'),\n",
       " ('cavalo', 'cakvalo'),\n",
       " ('relógio', 'relógiuo'),\n",
       " ('canela', 'canelac'),\n",
       " ('tênis', 'tênisy'),\n",
       " ('ansiosa', 'anciosa'),\n",
       " ('ansiosa', 'ancciosa'),\n",
       " ('ansiosa', 'ansioa'),\n",
       " ('empoderamento', 'empoderamento'),\n",
       " ('asterisco', 'asterístico'),\n",
       " ('gratuito', 'gratuíto'),\n",
       " ('entretido', 'entertido'),\n",
       " ('ritmo', 'ritimo'),\n",
       " ('idiota', 'indiota'),\n",
       " ('tomara', 'tomare'),\n",
       " ('seja', 'seje'),\n",
       " ('prevalecer', 'provalecer'),\n",
       " ('esteja', 'esteje'),\n",
       " ('mendigo', 'mindigo'),\n",
       " ('cérebro', 'célebro'),\n",
       " ('perturbar', 'pertubar')]"
      ]
     },
     "execution_count": 22,
     "metadata": {},
     "output_type": "execute_result"
    }
   ],
   "source": [
    "def cria_dados_teste(nome_arquivo):\n",
    "    lista_palavras_teste = []\n",
    "    f = open(nome_arquivo, \"r\" , encoding = \"utf-8\")\n",
    "    for linha in f:\n",
    "        correta, errada = linha.split()\n",
    "        lista_palavras_teste.append((correta, errada))\n",
    "    f.close()\n",
    "    return lista_palavras_teste\n",
    "\n",
    "lista_teste = cria_dados_teste(\"corpus/palavras.txt\")\n",
    "lista_teste"
   ]
  },
  {
   "cell_type": "code",
   "execution_count": 23,
   "id": "11f929e4",
   "metadata": {},
   "outputs": [
    {
     "name": "stdout",
     "output_type": "stream",
     "text": [
      "1.08 % de 186 palavras\n"
     ]
    }
   ],
   "source": [
    "def avaliador (testes):\n",
    "    numero_palavras = len(testes)\n",
    "    acertou = 0\n",
    "    for correta, errada in testes:\n",
    "        palavra_corrigida = corretor(errada)\n",
    "        if palavra_corrigida == correta:\n",
    "            acertou += 1\n",
    "    taxa_acerto = round(acertou * 100 / numero_palavras, 2)\n",
    "    print(f\"{taxa_acerto} % de {numero_palavras} palavras\")\n",
    "\n",
    "avaliador(lista_teste)"
   ]
  },
  {
   "cell_type": "markdown",
   "id": "ec532b51",
   "metadata": {},
   "source": [
    "Este é um número inadmissível, pois é muito baixo para um corretor ortográfico.\n",
    "\n",
    "Como já conseguimos comparar os nossos corretores, sabemos o quanto estamos acertando para podermos melhorá-lo."
   ]
  },
  {
   "cell_type": "markdown",
   "id": "27c8f680",
   "metadata": {},
   "source": [
    "### Incrementando o corretor - uma letra a mais \n",
    "\n",
    "Corrigiremos um outro tipo de erro bastante comum também além de deletar ou esquecer de digitar, que consiste em escrever uma letra a mais por engano.\n",
    "\n",
    "Por exemplo, nosso algoritmo receberá o termo equivocado “lóigica”, precisaremos que nos retorne a palavra correta “lógica”.\n",
    "\n",
    "| ESQUERDO | DIREITO |     OPERAÇÃO     | RESULTADO |\n",
    "|:--------:|:-------:|:----------------:|:---------:|\n",
    "| null     | lgica   | null + ó + lgica | óligca    |\n",
    "| l        | gica    | l + ó + gica     | lógica    |\n",
    "| lg       | ica     | lg + ó + ica     | lgóica    |\n",
    "| lgi      | ca      | lgi + ó + ca     | lgióca    |\n",
    "| lgic     | a       | lgic + ó + a     | lgicóa    |\n",
    "| lgica    | null    | lgica + ó + null | lgicaó    |\n",
    "\n",
    "\n",
    "Precisaremos generalizar e pensar em qual operação estamos realizando; eliminamos a primeira letra do lado direito e somamos as duas partes. A soma em Python é a concatenação, então estamos concatenando os dois pedaços de string."
   ]
  },
  {
   "cell_type": "code",
   "execution_count": 25,
   "id": "1c1a14b7",
   "metadata": {},
   "outputs": [],
   "source": [
    "def deletando_caracteres(fatias):\n",
    "    novas_palavras = []\n",
    "    for E, D in fatias:\n",
    "        novas_palavras.append(E + D[1:])\n",
    "    return novas_palavras"
   ]
  },
  {
   "cell_type": "code",
   "execution_count": 26,
   "id": "ed94c427",
   "metadata": {},
   "outputs": [
    {
     "name": "stdout",
     "output_type": "stream",
     "text": [
      "['alóigica', 'blóigica', 'clóigica', 'dlóigica', 'elóigica', 'flóigica', 'glóigica', 'hlóigica', 'ilóigica', 'jlóigica', 'klóigica', 'llóigica', 'mlóigica', 'nlóigica', 'olóigica', 'plóigica', 'qlóigica', 'rlóigica', 'slóigica', 'tlóigica', 'ulóigica', 'vlóigica', 'wlóigica', 'xlóigica', 'ylóigica', 'zlóigica', 'àlóigica', 'álóigica', 'âlóigica', 'ãlóigica', 'èlóigica', 'élóigica', 'êlóigica', 'ìlóigica', 'ílóigica', 'îlóigica', 'òlóigica', 'ólóigica', 'ôlóigica', 'õlóigica', 'ùlóigica', 'úlóigica', 'ûlóigica', 'çlóigica', 'laóigica', 'lbóigica', 'lcóigica', 'ldóigica', 'leóigica', 'lfóigica', 'lgóigica', 'lhóigica', 'lióigica', 'ljóigica', 'lkóigica', 'llóigica', 'lmóigica', 'lnóigica', 'loóigica', 'lpóigica', 'lqóigica', 'lróigica', 'lsóigica', 'ltóigica', 'luóigica', 'lvóigica', 'lwóigica', 'lxóigica', 'lyóigica', 'lzóigica', 'làóigica', 'láóigica', 'lâóigica', 'lãóigica', 'lèóigica', 'léóigica', 'lêóigica', 'lìóigica', 'líóigica', 'lîóigica', 'lòóigica', 'lóóigica', 'lôóigica', 'lõóigica', 'lùóigica', 'lúóigica', 'lûóigica', 'lçóigica', 'lóaigica', 'lóbigica', 'lócigica', 'lódigica', 'lóeigica', 'lófigica', 'lógigica', 'lóhigica', 'lóiigica', 'lójigica', 'lókigica', 'lóligica', 'lómigica', 'lónigica', 'lóoigica', 'lópigica', 'lóqigica', 'lórigica', 'lósigica', 'lótigica', 'lóuigica', 'lóvigica', 'lówigica', 'lóxigica', 'lóyigica', 'lózigica', 'lóàigica', 'lóáigica', 'lóâigica', 'lóãigica', 'lóèigica', 'lóéigica', 'lóêigica', 'lóìigica', 'lóíigica', 'lóîigica', 'lóòigica', 'lóóigica', 'lóôigica', 'lóõigica', 'lóùigica', 'lóúigica', 'lóûigica', 'lóçigica', 'lóiagica', 'lóibgica', 'lóicgica', 'lóidgica', 'lóiegica', 'lóifgica', 'lóiggica', 'lóihgica', 'lóiigica', 'lóijgica', 'lóikgica', 'lóilgica', 'lóimgica', 'lóingica', 'lóiogica', 'lóipgica', 'lóiqgica', 'lóirgica', 'lóisgica', 'lóitgica', 'lóiugica', 'lóivgica', 'lóiwgica', 'lóixgica', 'lóiygica', 'lóizgica', 'lóiàgica', 'lóiágica', 'lóiâgica', 'lóiãgica', 'lóiègica', 'lóiégica', 'lóiêgica', 'lóiìgica', 'lóiígica', 'lóiîgica', 'lóiògica', 'lóiógica', 'lóiôgica', 'lóiõgica', 'lóiùgica', 'lóiúgica', 'lóiûgica', 'lóiçgica', 'lóigaica', 'lóigbica', 'lóigcica', 'lóigdica', 'lóigeica', 'lóigfica', 'lóiggica', 'lóighica', 'lóigiica', 'lóigjica', 'lóigkica', 'lóiglica', 'lóigmica', 'lóignica', 'lóigoica', 'lóigpica', 'lóigqica', 'lóigrica', 'lóigsica', 'lóigtica', 'lóiguica', 'lóigvica', 'lóigwica', 'lóigxica', 'lóigyica', 'lóigzica', 'lóigàica', 'lóigáica', 'lóigâica', 'lóigãica', 'lóigèica', 'lóigéica', 'lóigêica', 'lóigìica', 'lóigíica', 'lóigîica', 'lóigòica', 'lóigóica', 'lóigôica', 'lóigõica', 'lóigùica', 'lóigúica', 'lóigûica', 'lóigçica', 'lóigiaca', 'lóigibca', 'lóigicca', 'lóigidca', 'lóigieca', 'lóigifca', 'lóigigca', 'lóigihca', 'lóigiica', 'lóigijca', 'lóigikca', 'lóigilca', 'lóigimca', 'lóiginca', 'lóigioca', 'lóigipca', 'lóigiqca', 'lóigirca', 'lóigisca', 'lóigitca', 'lóigiuca', 'lóigivca', 'lóigiwca', 'lóigixca', 'lóigiyca', 'lóigizca', 'lóigiàca', 'lóigiáca', 'lóigiâca', 'lóigiãca', 'lóigièca', 'lóigiéca', 'lóigiêca', 'lóigiìca', 'lóigiíca', 'lóigiîca', 'lóigiòca', 'lóigióca', 'lóigiôca', 'lóigiõca', 'lóigiùca', 'lóigiúca', 'lóigiûca', 'lóigiçca', 'lóigicaa', 'lóigicba', 'lóigicca', 'lóigicda', 'lóigicea', 'lóigicfa', 'lóigicga', 'lóigicha', 'lóigicia', 'lóigicja', 'lóigicka', 'lóigicla', 'lóigicma', 'lóigicna', 'lóigicoa', 'lóigicpa', 'lóigicqa', 'lóigicra', 'lóigicsa', 'lóigicta', 'lóigicua', 'lóigicva', 'lóigicwa', 'lóigicxa', 'lóigicya', 'lóigicza', 'lóigicàa', 'lóigicáa', 'lóigicâa', 'lóigicãa', 'lóigicèa', 'lóigicéa', 'lóigicêa', 'lóigicìa', 'lóigicía', 'lóigicîa', 'lóigicòa', 'lóigicóa', 'lóigicôa', 'lóigicõa', 'lóigicùa', 'lóigicúa', 'lóigicûa', 'lóigicça', 'lóigicaa', 'lóigicab', 'lóigicac', 'lóigicad', 'lóigicae', 'lóigicaf', 'lóigicag', 'lóigicah', 'lóigicai', 'lóigicaj', 'lóigicak', 'lóigical', 'lóigicam', 'lóigican', 'lóigicao', 'lóigicap', 'lóigicaq', 'lóigicar', 'lóigicas', 'lóigicat', 'lóigicau', 'lóigicav', 'lóigicaw', 'lóigicax', 'lóigicay', 'lóigicaz', 'lóigicaà', 'lóigicaá', 'lóigicaâ', 'lóigicaã', 'lóigicaè', 'lóigicaé', 'lóigicaê', 'lóigicaì', 'lóigicaí', 'lóigicaî', 'lóigicaò', 'lóigicaó', 'lóigicaô', 'lóigicaõ', 'lóigicaù', 'lóigicaú', 'lóigicaû', 'lóigicaç', 'óigica', 'ligica', 'lógica', 'lóiica', 'lóigca', 'lóigia', 'lóigic', 'lóigica']\n"
     ]
    }
   ],
   "source": [
    "# Incrementando a nova função no gerador_palavras\n",
    "\n",
    "def gerador_palavras(palavra):\n",
    "    fatias = []\n",
    "    for i in range(len(palavra)+1):\n",
    "        fatias.append((palavra[:i],palavra[i:]))\n",
    "    palavras_geradas = insere_letras(fatias)\n",
    "    palavras_geradas += deletando_caracteres(fatias)\n",
    "    return palavras_geradas\n",
    "\n",
    "palavra_exemplo = \"lóigica\"\n",
    "palavras_geradas = gerador_palavras(palavra_exemplo)\n",
    "\n",
    "print(palavras_geradas)"
   ]
  },
  {
   "cell_type": "code",
   "execution_count": 27,
   "id": "6f00fdbf",
   "metadata": {},
   "outputs": [
    {
     "name": "stdout",
     "output_type": "stream",
     "text": [
      "41.4 % de 186 palavras\n"
     ]
    }
   ],
   "source": [
    "avaliador(lista_teste)"
   ]
  },
  {
   "cell_type": "markdown",
   "id": "2df4ab3b",
   "metadata": {},
   "source": [
    "No retorno deste comando, teremos uma taxa de acerto de 41.4% de 186 palavras. Ou seja, fizemos um ótimo upgrade em comparação com com o resultado anterior."
   ]
  },
  {
   "cell_type": "markdown",
   "id": "127089e2",
   "metadata": {},
   "source": [
    "### Incrementando o corretor - trocando uma letra por outra\n",
    "\n",
    "Existem outros tipos de erros, como quando trocamos uma letra por outra. Por exemplo, na hora de digitar o “ó” no teclado, sem querer apertamos a tecla “í” que está bem ao lado do caractere correto, gerando a palavra errada \"lígica\".\n",
    "\n",
    "Logo, precisaremos desenvolver o corretor para realizarmos a operação de troca de letras. \n",
    "\n",
    "| ESQUERDO | DIREITO |      OPERAÇÃO     | RESULTADO |\n",
    "|:--------:|:-------:|:-----------------:|:---------:|\n",
    "| null     | lígica  | null + ó + ígica  | óigica    |\n",
    "| l        | ígica   | l + ó + gica      | lógica    |\n",
    "| lí       | gica    | lí + ó + ica      | lióica    |\n",
    "| líg      | ica     | líg + ó + ca      | ligóca    |\n",
    "| lígi     | ca      | lígi + ó + a      | ligióa    |\n",
    "| lígic    | a       | lígic + ó         | ligicó    |\n",
    "| lígica   | null    | lígica + ó + null | ligicaó   |\n",
    "| lóigica  | null    | lóigica + null    | lóigica   |\n",
    "\n",
    "Com isso, teremos o primeiro lado, mais a letra, mais o segundo lado, menos a primeira letra desta mesma segunda parte.\n",
    "\n"
   ]
  },
  {
   "cell_type": "code",
   "execution_count": 28,
   "id": "56d2cf78",
   "metadata": {},
   "outputs": [],
   "source": [
    "def troca_letra(fatias):\n",
    "    novas_palavras = []\n",
    "    letras = 'abcdefghijklmnopqrstuvwxyzáàãâéèêíìóòõôúùûç'\n",
    "    for E, D in fatias:\n",
    "        for letra in letras:\n",
    "            novas_palavras.append(E + letra + D[1:])\n",
    "    return novas_palavras"
   ]
  },
  {
   "cell_type": "code",
   "execution_count": 31,
   "id": "5adbbfaa",
   "metadata": {},
   "outputs": [
    {
     "name": "stdout",
     "output_type": "stream",
     "text": [
      "['alígica', 'blígica', 'clígica', 'dlígica', 'elígica', 'flígica', 'glígica', 'hlígica', 'ilígica', 'jlígica', 'klígica', 'llígica', 'mlígica', 'nlígica', 'olígica', 'plígica', 'qlígica', 'rlígica', 'slígica', 'tlígica', 'ulígica', 'vlígica', 'wlígica', 'xlígica', 'ylígica', 'zlígica', 'àlígica', 'álígica', 'âlígica', 'ãlígica', 'èlígica', 'élígica', 'êlígica', 'ìlígica', 'ílígica', 'îlígica', 'òlígica', 'ólígica', 'ôlígica', 'õlígica', 'ùlígica', 'úlígica', 'ûlígica', 'çlígica', 'laígica', 'lbígica', 'lcígica', 'ldígica', 'leígica', 'lfígica', 'lgígica', 'lhígica', 'liígica', 'ljígica', 'lkígica', 'llígica', 'lmígica', 'lnígica', 'loígica', 'lpígica', 'lqígica', 'lrígica', 'lsígica', 'ltígica', 'luígica', 'lvígica', 'lwígica', 'lxígica', 'lyígica', 'lzígica', 'làígica', 'láígica', 'lâígica', 'lãígica', 'lèígica', 'léígica', 'lêígica', 'lìígica', 'líígica', 'lîígica', 'lòígica', 'lóígica', 'lôígica', 'lõígica', 'lùígica', 'lúígica', 'lûígica', 'lçígica', 'líagica', 'líbgica', 'lícgica', 'lídgica', 'líegica', 'lífgica', 'líggica', 'líhgica', 'líigica', 'líjgica', 'líkgica', 'lílgica', 'límgica', 'língica', 'líogica', 'lípgica', 'líqgica', 'lírgica', 'lísgica', 'lítgica', 'líugica', 'lívgica', 'líwgica', 'líxgica', 'líygica', 'lízgica', 'líàgica', 'líágica', 'líâgica', 'líãgica', 'líègica', 'líégica', 'líêgica', 'líìgica', 'líígica', 'líîgica', 'líògica', 'líógica', 'líôgica', 'líõgica', 'líùgica', 'líúgica', 'líûgica', 'líçgica', 'lígaica', 'lígbica', 'lígcica', 'lígdica', 'lígeica', 'lígfica', 'líggica', 'líghica', 'lígiica', 'lígjica', 'lígkica', 'líglica', 'lígmica', 'lígnica', 'lígoica', 'lígpica', 'lígqica', 'lígrica', 'lígsica', 'lígtica', 'líguica', 'lígvica', 'lígwica', 'lígxica', 'lígyica', 'lígzica', 'lígàica', 'lígáica', 'lígâica', 'lígãica', 'lígèica', 'lígéica', 'lígêica', 'lígìica', 'lígíica', 'lígîica', 'lígòica', 'lígóica', 'lígôica', 'lígõica', 'lígùica', 'lígúica', 'lígûica', 'lígçica', 'lígiaca', 'lígibca', 'lígicca', 'lígidca', 'lígieca', 'lígifca', 'lígigca', 'lígihca', 'lígiica', 'lígijca', 'lígikca', 'lígilca', 'lígimca', 'líginca', 'lígioca', 'lígipca', 'lígiqca', 'lígirca', 'lígisca', 'lígitca', 'lígiuca', 'lígivca', 'lígiwca', 'lígixca', 'lígiyca', 'lígizca', 'lígiàca', 'lígiáca', 'lígiâca', 'lígiãca', 'lígièca', 'lígiéca', 'lígiêca', 'lígiìca', 'lígiíca', 'lígiîca', 'lígiòca', 'lígióca', 'lígiôca', 'lígiõca', 'lígiùca', 'lígiúca', 'lígiûca', 'lígiçca', 'lígicaa', 'lígicba', 'lígicca', 'lígicda', 'lígicea', 'lígicfa', 'lígicga', 'lígicha', 'lígicia', 'lígicja', 'lígicka', 'lígicla', 'lígicma', 'lígicna', 'lígicoa', 'lígicpa', 'lígicqa', 'lígicra', 'lígicsa', 'lígicta', 'lígicua', 'lígicva', 'lígicwa', 'lígicxa', 'lígicya', 'lígicza', 'lígicàa', 'lígicáa', 'lígicâa', 'lígicãa', 'lígicèa', 'lígicéa', 'lígicêa', 'lígicìa', 'lígicía', 'lígicîa', 'lígicòa', 'lígicóa', 'lígicôa', 'lígicõa', 'lígicùa', 'lígicúa', 'lígicûa', 'lígicça', 'lígicaa', 'lígicab', 'lígicac', 'lígicad', 'lígicae', 'lígicaf', 'lígicag', 'lígicah', 'lígicai', 'lígicaj', 'lígicak', 'lígical', 'lígicam', 'lígican', 'lígicao', 'lígicap', 'lígicaq', 'lígicar', 'lígicas', 'lígicat', 'lígicau', 'lígicav', 'lígicaw', 'lígicax', 'lígicay', 'lígicaz', 'lígicaà', 'lígicaá', 'lígicaâ', 'lígicaã', 'lígicaè', 'lígicaé', 'lígicaê', 'lígicaì', 'lígicaí', 'lígicaî', 'lígicaò', 'lígicaó', 'lígicaô', 'lígicaõ', 'lígicaù', 'lígicaú', 'lígicaû', 'lígicaç', 'ígica', 'lgica', 'líica', 'lígca', 'lígia', 'lígic', 'lígica', 'aígica', 'bígica', 'cígica', 'dígica', 'eígica', 'fígica', 'gígica', 'hígica', 'iígica', 'jígica', 'kígica', 'lígica', 'mígica', 'nígica', 'oígica', 'pígica', 'qígica', 'rígica', 'sígica', 'tígica', 'uígica', 'vígica', 'wígica', 'xígica', 'yígica', 'zígica', 'áígica', 'àígica', 'ãígica', 'âígica', 'éígica', 'èígica', 'êígica', 'íígica', 'ìígica', 'óígica', 'òígica', 'õígica', 'ôígica', 'úígica', 'ùígica', 'ûígica', 'çígica', 'lagica', 'lbgica', 'lcgica', 'ldgica', 'legica', 'lfgica', 'lggica', 'lhgica', 'ligica', 'ljgica', 'lkgica', 'llgica', 'lmgica', 'lngica', 'logica', 'lpgica', 'lqgica', 'lrgica', 'lsgica', 'ltgica', 'lugica', 'lvgica', 'lwgica', 'lxgica', 'lygica', 'lzgica', 'lágica', 'làgica', 'lãgica', 'lâgica', 'légica', 'lègica', 'lêgica', 'lígica', 'lìgica', 'lógica', 'lògica', 'lõgica', 'lôgica', 'lúgica', 'lùgica', 'lûgica', 'lçgica', 'líaica', 'líbica', 'lícica', 'lídica', 'líeica', 'lífica', 'lígica', 'líhica', 'líiica', 'líjica', 'líkica', 'lílica', 'límica', 'línica', 'líoica', 'lípica', 'líqica', 'lírica', 'lísica', 'lítica', 'líuica', 'lívica', 'líwica', 'líxica', 'líyica', 'lízica', 'líáica', 'líàica', 'líãica', 'líâica', 'líéica', 'líèica', 'líêica', 'lííica', 'líìica', 'líóica', 'líòica', 'líõica', 'líôica', 'líúica', 'líùica', 'líûica', 'líçica', 'lígaca', 'lígbca', 'lígcca', 'lígdca', 'lígeca', 'lígfca', 'líggca', 'líghca', 'lígica', 'lígjca', 'lígkca', 'líglca', 'lígmca', 'lígnca', 'lígoca', 'lígpca', 'lígqca', 'lígrca', 'lígsca', 'lígtca', 'líguca', 'lígvca', 'lígwca', 'lígxca', 'lígyca', 'lígzca', 'lígáca', 'lígàca', 'lígãca', 'lígâca', 'lígéca', 'lígèca', 'lígêca', 'lígíca', 'lígìca', 'lígóca', 'lígòca', 'lígõca', 'lígôca', 'lígúca', 'lígùca', 'lígûca', 'lígçca', 'lígiaa', 'lígiba', 'lígica', 'lígida', 'lígiea', 'lígifa', 'lígiga', 'lígiha', 'lígiia', 'lígija', 'lígika', 'lígila', 'lígima', 'lígina', 'lígioa', 'lígipa', 'lígiqa', 'lígira', 'lígisa', 'lígita', 'lígiua', 'lígiva', 'lígiwa', 'lígixa', 'lígiya', 'lígiza', 'lígiáa', 'lígiàa', 'lígiãa', 'lígiâa', 'lígiéa', 'lígièa', 'lígiêa', 'lígiía', 'lígiìa', 'lígióa', 'lígiòa', 'lígiõa', 'lígiôa', 'lígiúa', 'lígiùa', 'lígiûa', 'lígiça', 'lígica', 'lígicb', 'lígicc', 'lígicd', 'lígice', 'lígicf', 'lígicg', 'lígich', 'lígici', 'lígicj', 'lígick', 'lígicl', 'lígicm', 'lígicn', 'lígico', 'lígicp', 'lígicq', 'lígicr', 'lígics', 'lígict', 'lígicu', 'lígicv', 'lígicw', 'lígicx', 'lígicy', 'lígicz', 'lígicá', 'lígicà', 'lígicã', 'lígicâ', 'lígicé', 'lígicè', 'lígicê', 'lígicí', 'lígicì', 'lígicó', 'lígicò', 'lígicõ', 'lígicô', 'lígicú', 'lígicù', 'lígicû', 'lígicç', 'lígicaa', 'lígicab', 'lígicac', 'lígicad', 'lígicae', 'lígicaf', 'lígicag', 'lígicah', 'lígicai', 'lígicaj', 'lígicak', 'lígical', 'lígicam', 'lígican', 'lígicao', 'lígicap', 'lígicaq', 'lígicar', 'lígicas', 'lígicat', 'lígicau', 'lígicav', 'lígicaw', 'lígicax', 'lígicay', 'lígicaz', 'lígicaá', 'lígicaà', 'lígicaã', 'lígicaâ', 'lígicaé', 'lígicaè', 'lígicaê', 'lígicaí', 'lígicaì', 'lígicaó', 'lígicaò', 'lígicaõ', 'lígicaô', 'lígicaú', 'lígicaù', 'lígicaû', 'lígicaç']\n"
     ]
    }
   ],
   "source": [
    "# Incrementando a nova função no gerador_palavras.\n",
    "\n",
    "def gerador_palavras(palavra):\n",
    "    fatias = []\n",
    "    for i in range(len(palavra)+1):\n",
    "        fatias.append((palavra[:i],palavra[i:]))\n",
    "    palavras_geradas = insere_letras(fatias)\n",
    "    palavras_geradas += deletando_caracteres(fatias)\n",
    "    palavras_geradas += troca_letra(fatias)\n",
    "    return palavras_geradas\n",
    "\n",
    "palavra_exemplo = \"lígica\"\n",
    "palavras_geradas = gerador_palavras(palavra_exemplo)\n",
    "print(palavras_geradas)"
   ]
  },
  {
   "cell_type": "markdown",
   "id": "e32d7e5d",
   "metadata": {},
   "source": [
    "### Incrementando o corretor - inversão de letras.\n",
    "\n",
    "Neste passo, corrigiremos um erro de digitação onde letras foram invertidas em suas posições, como na palavra escrita errada \"lgóica\".\n",
    "\n",
    "| ESQUERDO | DIREITO |           OPERAÇÃO          | RESULTADO |\n",
    "|:--------:|:-------:|:---------------------------:|:---------:|\n",
    "| null     | lgóica  | null + g + l + óica         | glóica    |\n",
    "| l        | góica   | l + ó + g + ica             | lógica    |\n",
    "| lg       | óica    | lg + i + ó + ca             | lgióca    |\n",
    "| lgó      | ica     | lgó + c + i + a             | lgócia    |\n",
    "| lgói     | ca      | lgói + a + c + null         | lgóiac    |\n",
    "| lgóic    | a       | lgóic + a + a + null        | lgóicaa   |\n",
    "| lgóica   | null    | lgóica + null + null + null | lgóica    |\n",
    "| lóigica  | null    | lóigica + null              | lóigica   |\n",
    "\n",
    "Esta será composta pelo lado esquerdo, somado com a segunda letra de index 1 do lado direito, visto que sempre começamos com 0. Ainda somaremos a primeira letra de index 0 da segunda parte com restante da palavra, ou seja, da terceira posição de index 2 em diante."
   ]
  },
  {
   "cell_type": "code",
   "execution_count": 33,
   "id": "6892e95f",
   "metadata": {},
   "outputs": [],
   "source": [
    "def inverte_letra(fatias):\n",
    "    novas_palavras = []\n",
    "    for E, D in fatias:\n",
    "        if len(D) > 1:\n",
    "            novas_palavras.append(E + D[1] + D[0] + D[2:])\n",
    "    return novas_palavras\n"
   ]
  },
  {
   "cell_type": "code",
   "execution_count": 35,
   "id": "a3104987",
   "metadata": {},
   "outputs": [
    {
     "name": "stdout",
     "output_type": "stream",
     "text": [
      "['algóica', 'blgóica', 'clgóica', 'dlgóica', 'elgóica', 'flgóica', 'glgóica', 'hlgóica', 'ilgóica', 'jlgóica', 'klgóica', 'llgóica', 'mlgóica', 'nlgóica', 'olgóica', 'plgóica', 'qlgóica', 'rlgóica', 'slgóica', 'tlgóica', 'ulgóica', 'vlgóica', 'wlgóica', 'xlgóica', 'ylgóica', 'zlgóica', 'àlgóica', 'álgóica', 'âlgóica', 'ãlgóica', 'èlgóica', 'élgóica', 'êlgóica', 'ìlgóica', 'ílgóica', 'îlgóica', 'òlgóica', 'ólgóica', 'ôlgóica', 'õlgóica', 'ùlgóica', 'úlgóica', 'ûlgóica', 'çlgóica', 'lagóica', 'lbgóica', 'lcgóica', 'ldgóica', 'legóica', 'lfgóica', 'lggóica', 'lhgóica', 'ligóica', 'ljgóica', 'lkgóica', 'llgóica', 'lmgóica', 'lngóica', 'logóica', 'lpgóica', 'lqgóica', 'lrgóica', 'lsgóica', 'ltgóica', 'lugóica', 'lvgóica', 'lwgóica', 'lxgóica', 'lygóica', 'lzgóica', 'làgóica', 'lágóica', 'lâgóica', 'lãgóica', 'lègóica', 'légóica', 'lêgóica', 'lìgóica', 'lígóica', 'lîgóica', 'lògóica', 'lógóica', 'lôgóica', 'lõgóica', 'lùgóica', 'lúgóica', 'lûgóica', 'lçgóica', 'lgaóica', 'lgbóica', 'lgcóica', 'lgdóica', 'lgeóica', 'lgfóica', 'lggóica', 'lghóica', 'lgióica', 'lgjóica', 'lgkóica', 'lglóica', 'lgmóica', 'lgnóica', 'lgoóica', 'lgpóica', 'lgqóica', 'lgróica', 'lgsóica', 'lgtóica', 'lguóica', 'lgvóica', 'lgwóica', 'lgxóica', 'lgyóica', 'lgzóica', 'lgàóica', 'lgáóica', 'lgâóica', 'lgãóica', 'lgèóica', 'lgéóica', 'lgêóica', 'lgìóica', 'lgíóica', 'lgîóica', 'lgòóica', 'lgóóica', 'lgôóica', 'lgõóica', 'lgùóica', 'lgúóica', 'lgûóica', 'lgçóica', 'lgóaica', 'lgóbica', 'lgócica', 'lgódica', 'lgóeica', 'lgófica', 'lgógica', 'lgóhica', 'lgóiica', 'lgójica', 'lgókica', 'lgólica', 'lgómica', 'lgónica', 'lgóoica', 'lgópica', 'lgóqica', 'lgórica', 'lgósica', 'lgótica', 'lgóuica', 'lgóvica', 'lgówica', 'lgóxica', 'lgóyica', 'lgózica', 'lgóàica', 'lgóáica', 'lgóâica', 'lgóãica', 'lgóèica', 'lgóéica', 'lgóêica', 'lgóìica', 'lgóíica', 'lgóîica', 'lgóòica', 'lgóóica', 'lgóôica', 'lgóõica', 'lgóùica', 'lgóúica', 'lgóûica', 'lgóçica', 'lgóiaca', 'lgóibca', 'lgóicca', 'lgóidca', 'lgóieca', 'lgóifca', 'lgóigca', 'lgóihca', 'lgóiica', 'lgóijca', 'lgóikca', 'lgóilca', 'lgóimca', 'lgóinca', 'lgóioca', 'lgóipca', 'lgóiqca', 'lgóirca', 'lgóisca', 'lgóitca', 'lgóiuca', 'lgóivca', 'lgóiwca', 'lgóixca', 'lgóiyca', 'lgóizca', 'lgóiàca', 'lgóiáca', 'lgóiâca', 'lgóiãca', 'lgóièca', 'lgóiéca', 'lgóiêca', 'lgóiìca', 'lgóiíca', 'lgóiîca', 'lgóiòca', 'lgóióca', 'lgóiôca', 'lgóiõca', 'lgóiùca', 'lgóiúca', 'lgóiûca', 'lgóiçca', 'lgóicaa', 'lgóicba', 'lgóicca', 'lgóicda', 'lgóicea', 'lgóicfa', 'lgóicga', 'lgóicha', 'lgóicia', 'lgóicja', 'lgóicka', 'lgóicla', 'lgóicma', 'lgóicna', 'lgóicoa', 'lgóicpa', 'lgóicqa', 'lgóicra', 'lgóicsa', 'lgóicta', 'lgóicua', 'lgóicva', 'lgóicwa', 'lgóicxa', 'lgóicya', 'lgóicza', 'lgóicàa', 'lgóicáa', 'lgóicâa', 'lgóicãa', 'lgóicèa', 'lgóicéa', 'lgóicêa', 'lgóicìa', 'lgóicía', 'lgóicîa', 'lgóicòa', 'lgóicóa', 'lgóicôa', 'lgóicõa', 'lgóicùa', 'lgóicúa', 'lgóicûa', 'lgóicça', 'lgóicaa', 'lgóicab', 'lgóicac', 'lgóicad', 'lgóicae', 'lgóicaf', 'lgóicag', 'lgóicah', 'lgóicai', 'lgóicaj', 'lgóicak', 'lgóical', 'lgóicam', 'lgóican', 'lgóicao', 'lgóicap', 'lgóicaq', 'lgóicar', 'lgóicas', 'lgóicat', 'lgóicau', 'lgóicav', 'lgóicaw', 'lgóicax', 'lgóicay', 'lgóicaz', 'lgóicaà', 'lgóicaá', 'lgóicaâ', 'lgóicaã', 'lgóicaè', 'lgóicaé', 'lgóicaê', 'lgóicaì', 'lgóicaí', 'lgóicaî', 'lgóicaò', 'lgóicaó', 'lgóicaô', 'lgóicaõ', 'lgóicaù', 'lgóicaú', 'lgóicaû', 'lgóicaç', 'góica', 'lóica', 'lgica', 'lgóca', 'lgóia', 'lgóic', 'lgóica', 'agóica', 'bgóica', 'cgóica', 'dgóica', 'egóica', 'fgóica', 'ggóica', 'hgóica', 'igóica', 'jgóica', 'kgóica', 'lgóica', 'mgóica', 'ngóica', 'ogóica', 'pgóica', 'qgóica', 'rgóica', 'sgóica', 'tgóica', 'ugóica', 'vgóica', 'wgóica', 'xgóica', 'ygóica', 'zgóica', 'ágóica', 'àgóica', 'ãgóica', 'âgóica', 'égóica', 'ègóica', 'êgóica', 'ígóica', 'ìgóica', 'ógóica', 'ògóica', 'õgóica', 'ôgóica', 'úgóica', 'ùgóica', 'ûgóica', 'çgóica', 'laóica', 'lbóica', 'lcóica', 'ldóica', 'leóica', 'lfóica', 'lgóica', 'lhóica', 'lióica', 'ljóica', 'lkóica', 'llóica', 'lmóica', 'lnóica', 'loóica', 'lpóica', 'lqóica', 'lróica', 'lsóica', 'ltóica', 'luóica', 'lvóica', 'lwóica', 'lxóica', 'lyóica', 'lzóica', 'láóica', 'làóica', 'lãóica', 'lâóica', 'léóica', 'lèóica', 'lêóica', 'líóica', 'lìóica', 'lóóica', 'lòóica', 'lõóica', 'lôóica', 'lúóica', 'lùóica', 'lûóica', 'lçóica', 'lgaica', 'lgbica', 'lgcica', 'lgdica', 'lgeica', 'lgfica', 'lggica', 'lghica', 'lgiica', 'lgjica', 'lgkica', 'lglica', 'lgmica', 'lgnica', 'lgoica', 'lgpica', 'lgqica', 'lgrica', 'lgsica', 'lgtica', 'lguica', 'lgvica', 'lgwica', 'lgxica', 'lgyica', 'lgzica', 'lgáica', 'lgàica', 'lgãica', 'lgâica', 'lgéica', 'lgèica', 'lgêica', 'lgíica', 'lgìica', 'lgóica', 'lgòica', 'lgõica', 'lgôica', 'lgúica', 'lgùica', 'lgûica', 'lgçica', 'lgóaca', 'lgóbca', 'lgócca', 'lgódca', 'lgóeca', 'lgófca', 'lgógca', 'lgóhca', 'lgóica', 'lgójca', 'lgókca', 'lgólca', 'lgómca', 'lgónca', 'lgóoca', 'lgópca', 'lgóqca', 'lgórca', 'lgósca', 'lgótca', 'lgóuca', 'lgóvca', 'lgówca', 'lgóxca', 'lgóyca', 'lgózca', 'lgóáca', 'lgóàca', 'lgóãca', 'lgóâca', 'lgóéca', 'lgóèca', 'lgóêca', 'lgóíca', 'lgóìca', 'lgóóca', 'lgóòca', 'lgóõca', 'lgóôca', 'lgóúca', 'lgóùca', 'lgóûca', 'lgóçca', 'lgóiaa', 'lgóiba', 'lgóica', 'lgóida', 'lgóiea', 'lgóifa', 'lgóiga', 'lgóiha', 'lgóiia', 'lgóija', 'lgóika', 'lgóila', 'lgóima', 'lgóina', 'lgóioa', 'lgóipa', 'lgóiqa', 'lgóira', 'lgóisa', 'lgóita', 'lgóiua', 'lgóiva', 'lgóiwa', 'lgóixa', 'lgóiya', 'lgóiza', 'lgóiáa', 'lgóiàa', 'lgóiãa', 'lgóiâa', 'lgóiéa', 'lgóièa', 'lgóiêa', 'lgóiía', 'lgóiìa', 'lgóióa', 'lgóiòa', 'lgóiõa', 'lgóiôa', 'lgóiúa', 'lgóiùa', 'lgóiûa', 'lgóiça', 'lgóica', 'lgóicb', 'lgóicc', 'lgóicd', 'lgóice', 'lgóicf', 'lgóicg', 'lgóich', 'lgóici', 'lgóicj', 'lgóick', 'lgóicl', 'lgóicm', 'lgóicn', 'lgóico', 'lgóicp', 'lgóicq', 'lgóicr', 'lgóics', 'lgóict', 'lgóicu', 'lgóicv', 'lgóicw', 'lgóicx', 'lgóicy', 'lgóicz', 'lgóicá', 'lgóicà', 'lgóicã', 'lgóicâ', 'lgóicé', 'lgóicè', 'lgóicê', 'lgóicí', 'lgóicì', 'lgóicó', 'lgóicò', 'lgóicõ', 'lgóicô', 'lgóicú', 'lgóicù', 'lgóicû', 'lgóicç', 'lgóicaa', 'lgóicab', 'lgóicac', 'lgóicad', 'lgóicae', 'lgóicaf', 'lgóicag', 'lgóicah', 'lgóicai', 'lgóicaj', 'lgóicak', 'lgóical', 'lgóicam', 'lgóican', 'lgóicao', 'lgóicap', 'lgóicaq', 'lgóicar', 'lgóicas', 'lgóicat', 'lgóicau', 'lgóicav', 'lgóicaw', 'lgóicax', 'lgóicay', 'lgóicaz', 'lgóicaá', 'lgóicaà', 'lgóicaã', 'lgóicaâ', 'lgóicaé', 'lgóicaè', 'lgóicaê', 'lgóicaí', 'lgóicaì', 'lgóicaó', 'lgóicaò', 'lgóicaõ', 'lgóicaô', 'lgóicaú', 'lgóicaù', 'lgóicaû', 'lgóicaç', 'glóica', 'lógica', 'lgióca', 'lgócia', 'lgóiac']\n"
     ]
    }
   ],
   "source": [
    "# Incrementando a nova função no gerador_palavras.\n",
    "\n",
    "def gerador_palavras(palavra):\n",
    "    fatias = []\n",
    "    for i in range(len(palavra)+1):\n",
    "        fatias.append((palavra[:i],palavra[i:]))\n",
    "    palavras_geradas = insere_letras(fatias)\n",
    "    palavras_geradas += deletando_caracteres(fatias)\n",
    "    palavras_geradas += troca_letra(fatias)\n",
    "    palavras_geradas += inverte_letra(fatias)\n",
    "    return palavras_geradas\n",
    "\n",
    "palavra_exemplo = \"lgóica\"\n",
    "palavras_geradas = gerador_palavras(palavra_exemplo)\n",
    "print(palavras_geradas)"
   ]
  },
  {
   "cell_type": "code",
   "execution_count": 36,
   "id": "15e6e87c",
   "metadata": {},
   "outputs": [
    {
     "name": "stdout",
     "output_type": "stream",
     "text": [
      "76.34 % de 186 palavras\n"
     ]
    }
   ],
   "source": [
    "avaliador(lista_teste)"
   ]
  },
  {
   "cell_type": "code",
   "execution_count": 37,
   "id": "a982c907",
   "metadata": {},
   "outputs": [
    {
     "data": {
      "text/plain": [
       "True"
      ]
     },
     "execution_count": 37,
     "metadata": {},
     "output_type": "execute_result"
    }
   ],
   "source": [
    "'lógica' in palavras_geradas\n"
   ]
  },
  {
   "cell_type": "markdown",
   "id": "0d6f924c",
   "metadata": {},
   "source": [
    "Melhoramos consideravelmente o nosso corretor, pois começamos com aproximadamente 1% de taxa de acerto apenas, o que era inaceitável.\n",
    "\n",
    "Porém, estamos realizando os testes a partir de uma lista de palavras que pode conter alguns termos ainda desconhecidos pelo nosso vocabulário.\n",
    "\n",
    "Então os quase 24% restantes de erro estão associados tanto ao erro do próprio corretor quanto ao fato de desconhecermos a palavra, pois se o algoritmo ainda não a conhece, a correção não será feita.\n",
    "\n",
    "Precisaremos calcular o quanto que essa restrição está impactando no resultado, pois temos uma taxa de erro e deveremos saber o quanto desta porcentagem está associada às palavras desconhecidas."
   ]
  },
  {
   "cell_type": "code",
   "execution_count": 39,
   "id": "fe4fbb5b",
   "metadata": {},
   "outputs": [
    {
     "name": "stdout",
     "output_type": "stream",
     "text": [
      "76.34% de 186 palavras, desconhecidas é 6.99%\n"
     ]
    }
   ],
   "source": [
    "def avaliador(testes, vocabulario):\n",
    "    numero_palavras = len(testes)\n",
    "    acertou = 0\n",
    "    desconhecida = 0\n",
    "    for correta, errada in testes:\n",
    "        palavra_corrigida = corretor(errada)\n",
    "        if palavra_corrigida == correta:\n",
    "            acertou += 1\n",
    "        else:\n",
    "            desconhecida += (correta not in vocabulario)\n",
    "    taxa_acerto = round(acertou*100/numero_palavras, 2)\n",
    "    taxa_desconhecida = round(desconhecida*100/numero_palavras, 2)\n",
    "    print(f\"{taxa_acerto}% de {numero_palavras} palavras, desconhecidas é {taxa_desconhecida}%\")\n",
    "\n",
    "\n",
    "vocabulario = set(lista_normalizada)\n",
    "avaliador(lista_teste, vocabulario)"
   ]
  },
  {
   "cell_type": "markdown",
   "id": "e018b7f7",
   "metadata": {},
   "source": [
    "### Turbinado o gerador de palavras.\n",
    "\n",
    "Poderemos ter um problema em que sejam necessárias mais operações para corrigirmos a palavra digitada equivocadamente.\n",
    "\n",
    "Por exemplo, se escrevermos erroneamente “lóiigica”, precisaremos deletar o caractere “i” duas vezes, e o nosso corretor ainda não é capaz de fazer isso.\n",
    "\n",
    "Logo, notaremos que o nosso corretor só corrige palavras que estão a uma única distância da correta. Então construiremos uma função que corrigirá as que estão a duas distâncias do resultado correto, e verificará qual será o retorno do novo corretor."
   ]
  },
  {
   "cell_type": "code",
   "execution_count": 41,
   "id": "1c821f12",
   "metadata": {},
   "outputs": [
    {
     "data": {
      "text/plain": [
       "True"
      ]
     },
     "execution_count": 41,
     "metadata": {},
     "output_type": "execute_result"
    }
   ],
   "source": [
    "palavra = \"lóiigica\"\n",
    "\n",
    "def gerador_turbinado(palavras_geradas):\n",
    "    novas_palavras = []\n",
    "    for palavra in palavras_geradas:\n",
    "        novas_palavras += gerador_palavras(palavra)\n",
    "    return novas_palavras\n",
    "\n",
    "palavras_g = gerador_turbinado(gerador_palavras(palavra))\n",
    "\"lógica\" in palavras_g"
   ]
  },
  {
   "cell_type": "code",
   "execution_count": 42,
   "id": "234e7b44",
   "metadata": {},
   "outputs": [
    {
     "data": {
      "text/plain": [
       "676760"
      ]
     },
     "execution_count": 42,
     "metadata": {},
     "output_type": "execute_result"
    }
   ],
   "source": [
    "len(palavras_g)"
   ]
  },
  {
   "cell_type": "markdown",
   "id": "7014d930",
   "metadata": {},
   "source": [
    "Como este retorno teremos um volume extra de palavras geradas. Fazer a correção com esta grande quantidade de resultados talvez não faça sentido, pois demoraria muito.\n",
    "\n",
    "Vimos um gigantesco número de palavras geradas para uma única correção, tanto pelo gerador_palavras() quanto pelo gerador_turbinado().\n",
    "\n",
    "Por conta disso, calcular a máxima probabilidade de todas esses possíveis resultados corretos se tornou inviável, então precisaremos reduzir este número de candidatos.\n",
    "\n",
    "Construímos a função, a qual gera as palavras e calcula a probabilidade de cada uma, retornando a possível correção. Porém, nosso problema diz respeito à enorme quantidade de resultados, então precisaremos pegar somente os candidatos, e para isso criaremos a variável candidatos."
   ]
  },
  {
   "cell_type": "code",
   "execution_count": 45,
   "id": "edb6f5b2",
   "metadata": {},
   "outputs": [
    {
     "name": "stdout",
     "output_type": "stream",
     "text": [
      "2\n"
     ]
    },
    {
     "data": {
      "text/plain": [
       "'lógica'"
      ]
     },
     "execution_count": 45,
     "metadata": {},
     "output_type": "execute_result"
    }
   ],
   "source": [
    "def novo_corretor(palavra):\n",
    "    palavras_geradas = gerador_palavras(palavra)\n",
    "    palavras_turbinado = gerador_turbinado(palavras_geradas)\n",
    "    todas_palavras = set(palavras_geradas + palavras_turbinado)\n",
    "    candidatos = [palavra]\n",
    "    for palavra in todas_palavras:\n",
    "        if palavra in vocabulario:\n",
    "            candidatos.append(palavra)\n",
    "    print(len(candidatos))\n",
    "    palavra_correta = max(candidatos, key=probabilidade)\n",
    "    return palavra_correta\n",
    "\n",
    "novo_corretor(palavra)"
   ]
  },
  {
   "cell_type": "markdown",
   "id": "3c842f72",
   "metadata": {},
   "source": [
    "Com isso, corrigimos a nossa palavra ao receber 'lógica', e calculamos a probabilidade máxima de candidatos, sendo apenas 2. O grande restante de resultados é insignificante para este novo corretor, pois não nos servirá para o que queremos.\n",
    "\n",
    "Portanto, conseguimos otimizar muito o nosso resultado, de quase um milhão de palavras para apenas duas possíveis correções.\n",
    "\n",
    "### Avaliando o novo corretor."
   ]
  },
  {
   "cell_type": "code",
   "execution_count": 47,
   "id": "2e9a3ce2",
   "metadata": {},
   "outputs": [
    {
     "data": {
      "text/plain": [
       "'lógica'"
      ]
     },
     "execution_count": 47,
     "metadata": {},
     "output_type": "execute_result"
    }
   ],
   "source": [
    "# Removemos o print, pois não é necessario manter.\n",
    "\n",
    "def novo_corretor(palavra):\n",
    "    palavras_geradas = gerador_palavras(palavra)\n",
    "    palavras_turbinado = gerador_turbinado(palavras_geradas)\n",
    "    todas_palavras = set(palavras_geradas + palavras_turbinado)\n",
    "    candidatos = [palavra]\n",
    "    for palavra in todas_palavras:\n",
    "        if palavra in vocabulario:\n",
    "            candidatos.append(palavra)\n",
    "    palavra_correta = max(candidatos, key=probabilidade)\n",
    "    return palavra_correta\n",
    "\n",
    "novo_corretor(palavra)"
   ]
  },
  {
   "cell_type": "code",
   "execution_count": 51,
   "id": "8a2c438c",
   "metadata": {},
   "outputs": [
    {
     "name": "stdout",
     "output_type": "stream",
     "text": [
      "55.38% de 186 palavras, desconhecidas 6.99 %\n"
     ]
    }
   ],
   "source": [
    "def avaliador(testes, vocabulario):\n",
    "    numero_palavras = len(testes)\n",
    "    acertou = 0\n",
    "    desconhecida = 0\n",
    "    for correta, errada in testes:\n",
    "        palavra_corrigida = novo_corretor(errada)\n",
    "        desconhecida += (correta not in vocabulario)\n",
    "        if palavra_corrigida == correta:\n",
    "            acertou += 1\n",
    "    taxa_acerto = round(acertou * 100 / numero_palavras, 2)\n",
    "    taxa_desconhecida = round(desconhecida * 100 / numero_palavras, 2)\n",
    "    print(f\"{taxa_acerto}% de {numero_palavras} palavras, desconhecidas {taxa_desconhecida} %\")\n",
    "\n",
    "vocabulario = set(lista_normalizada)\n",
    "avaliador(lista_teste, vocabulario)"
   ]
  },
  {
   "cell_type": "markdown",
   "id": "b7de9f8c",
   "metadata": {},
   "source": [
    "Vimos que o novo_corretor() performou consideravelmente pior do que o nosso corretor anterior. Printaremos alguns resultados para analisarmos o porquê deste novo não estar indo tão bem quanto o outro."
   ]
  },
  {
   "cell_type": "code",
   "execution_count": 53,
   "id": "fd9e29e8",
   "metadata": {},
   "outputs": [
    {
     "name": "stdout",
     "output_type": "stream",
     "text": [
      "esje-esse-se\n",
      "sãêo-são-não\n",
      "dosa-dos-do\n",
      "eme-em-de\n",
      "eàssa-essa-esse\n",
      "daõs-das-da\n",
      "céda-cada-da\n",
      "noâ-no-o\n",
      "enêão-então-não\n",
      "tĩem-tem-em\n",
      "nossah-nossa-nosso\n",
      "teb-tem-de\n",
      "atĩ-até-a\n",
      "âem-em-de\n",
      "foo-foi-o\n",
      "serr-ser-se\n",
      "entke-entre-então\n",
      "van-vai-a\n",
      "çeus-seus-seu\n",
      "eû-e-de\n",
      "temeo-tempo-temos\n",
      "semre-sempre-ser\n",
      "elaá-ela-ele\n",
      "síó-só-se\n",
      "siàe-site-se\n",
      "seém-sem-em\n",
      "peln-pelo-ele\n",
      "aléra-alura-agora\n",
      "tdia-dia-da\n",
      "tuúo-tudo-tipo\n",
      "jé-é-de\n",
      "sãô-são-não\n",
      "odos-dos-do\n",
      "siua-sua-seu\n",
      "elpe-ele-esse\n",
      "teos-temos-os\n",
      "eũsa-essa-esse\n",
      "vjmos-vamos-temos\n",
      "dms-dos-de\n",
      "cava-java-para\n",
      "ános-nos-no\n",
      "èaso-caso-as\n",
      "túem-tem-em\n",
      "daáos-dados-dos\n",
      "nossk-nosso-nosso\n",
      "tãer-ter-ser\n",
      "vté-até-é\n",
      "búm-bem-um\n",
      "sçerá-será-ser\n",
      "entró-entre-então\n",
      "uai-vai-a\n",
      "sâus-seus-seu\n",
      "ìeu-seu-de\n",
      "fual-qual-sua\n",
      "elal-ela-ele\n",
      "skó-só-se\n",
      "secm-sem-em\n",
      "aluéa-alura-além\n",
      "dil-dia-de\n",
      "sód-só-se\n",
      "eúaa-aeúaa-essa\n",
      "ró-só-de\n",
      "dĩaz-adĩaz-da\n",
      "correptor-corretor-correto\n",
      "trtica-tática-prática\n",
      "ewpoderamento-aewpoderamento-ewpoderamento\n",
      "îgato-gato-fato\n",
      "cakvalo-acakvalo-carvalho\n",
      "canelac-acanelac-janela\n",
      "tênisy-atênisy-tênisy\n",
      "anciosa-aanciosa-ansioso\n",
      "ancciosa-aancciosa-ancciosa\n",
      "ansioa-aansioa-ensina\n",
      "asterístico-aasterístico-asterístico\n",
      "entertido-aentertido-entendido\n",
      "ritimo-ritmo-ótimo\n",
      "indiota-aindiota-indica\n",
      "tomare-tomar-tomar\n",
      "seje-seja-se\n",
      "provalecer-aprovalecer-prevalece\n",
      "esteje-esteja-este\n",
      "mindigo-amindigo-indico\n",
      "pertubar-apertubar-derrubar\n",
      "55.38% de 186 palavras, desconhecidas 6.99%\n"
     ]
    }
   ],
   "source": [
    "def avaliador(testes, vocabulario):\n",
    "    numero_palavras = len(testes)\n",
    "    acertou = 0\n",
    "    desconhecida = 0\n",
    "    for correta, errada in testes:\n",
    "        palavra_corrigida = novo_corretor(errada)\n",
    "        desconhecida += (correta not in vocabulario)\n",
    "        if palavra_corrigida == correta:\n",
    "            acertou += 1\n",
    "        else:\n",
    "            print(errada + \"-\" + corretor(errada) + \"-\" + palavra_corrigida)\n",
    "    taxa_acerto = round(acertou * 100 / numero_palavras, 2)\n",
    "    taxa_desconhecida = round(desconhecida * 100 / numero_palavras, 2)\n",
    "    print(f\"{taxa_acerto}% de {numero_palavras} palavras, desconhecidas {taxa_desconhecida}%\")\n",
    "\n",
    "vocabulario = set(lista_normalizada)\n",
    "avaliador(lista_teste, vocabulario)"
   ]
  },
  {
   "cell_type": "markdown",
   "id": "96cd8e6f",
   "metadata": {},
   "source": [
    "Com a execução, veremos uma lista em que a primeira palavra é a errada, a segunda é a gerada pelo corretor antigo, e a terceira pelo nosso novo.\n",
    "\n",
    "Muitas vezes nossos erros de digitação estão apenas a uma distância da palavra equivocada, ou seja, é mais comum esquecermos de digitar ou trocarmos uma única letra.\n",
    "\n",
    "Embora teoricamente o novo_corretor() parecesse ser melhor, está performando bem pior do que o outro. Portanto, é mais interessante continuarmos com o antigo."
   ]
  },
  {
   "cell_type": "code",
   "execution_count": 55,
   "id": "20c296d8",
   "metadata": {},
   "outputs": [
    {
     "name": "stdout",
     "output_type": "stream",
     "text": [
      "76.34% de 186 palavras, desconhecidas 6.99 %\n"
     ]
    }
   ],
   "source": [
    "#Modificaremos o avaliador() novamente. \n",
    "# Copiaremos seu bloco e o colaremos em uma nova célula, e ao invés de chamarmos o novo corretor,\n",
    "# o deletaremos e chamaremos o antigo corretor(). O print() em else também não nos interessa mais,\n",
    "# então poderemos apagá-lo.\n",
    "\n",
    "def avaliador(testes, vocabulario):\n",
    "    numero_palavras = len(testes)\n",
    "    acertou = 0\n",
    "    desconhecida = 0\n",
    "    for correta, errada in testes:\n",
    "        palavra_corrigida = corretor(errada)\n",
    "        desconhecida += (correta not in vocabulario)\n",
    "        if palavra_corrigida == correta:\n",
    "            acertou += 1\n",
    "    taxa_acerto = round(acertou * 100 / numero_palavras, 2)\n",
    "    taxa_desconhecida = round(desconhecida * 100 / numero_palavras, 2)\n",
    "    print(f\"{taxa_acerto}% de {numero_palavras} palavras, desconhecidas {taxa_desconhecida} %\")\n",
    "\n",
    "vocabulario = set(lista_normalizada)\n",
    "avaliador(lista_teste, vocabulario)"
   ]
  },
  {
   "cell_type": "code",
   "execution_count": 58,
   "id": "87671b8c",
   "metadata": {},
   "outputs": [
    {
     "name": "stdout",
     "output_type": "stream",
     "text": [
      "python\n",
      "python\n"
     ]
    }
   ],
   "source": [
    "# Podemos fazer testes e ver a saída de cada corretor.\n",
    "\n",
    "palavra = \"pyton\"\n",
    "print(novo_corretor(palavra))\n",
    "print(corretor(palavra))"
   ]
  },
  {
   "cell_type": "markdown",
   "id": "f8ec4d32",
   "metadata": {},
   "source": [
    "Para melhorarmos ainda mais, poderemos procurar uma base de dados maior para fazermos esse treinamento e termos uma performance ainda melhor."
   ]
  },
  {
   "cell_type": "code",
   "execution_count": null,
   "id": "97ef8100",
   "metadata": {},
   "outputs": [],
   "source": []
  }
 ],
 "metadata": {
  "kernelspec": {
   "display_name": "Python 3",
   "language": "python",
   "name": "python3"
  },
  "language_info": {
   "codemirror_mode": {
    "name": "ipython",
    "version": 3
   },
   "file_extension": ".py",
   "mimetype": "text/x-python",
   "name": "python",
   "nbconvert_exporter": "python",
   "pygments_lexer": "ipython3",
   "version": "3.8.8"
  }
 },
 "nbformat": 4,
 "nbformat_minor": 5
}
